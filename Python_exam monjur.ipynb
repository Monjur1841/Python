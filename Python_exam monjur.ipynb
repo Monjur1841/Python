{
 "cells": [
  {
   "cell_type": "code",
   "execution_count": null,
   "metadata": {
    "colab": {
     "base_uri": "https://localhost:8080/",
     "height": 53
    },
    "id": "6FRGnQgJkMuu",
    "outputId": "80209399-03c6-4372-d179-a7e97766af90"
   },
   "outputs": [
    {
     "data": {
      "application/vnd.google.colaboratory.intrinsic+json": {
       "type": "string"
      },
      "text/plain": [
       "'\\nCreate an output function of comments. \\nIt has to be a multi line comment. It needs to include at least \\nthree sentences. Assign the whole sentence as a variable and output it\\n'"
      ]
     },
     "execution_count": 1,
     "metadata": {},
     "output_type": "execute_result"
    }
   ],
   "source": [
    "\"\"\"\n",
    "Create an output function of comments.\n",
    "It has to be a multi line comment. It needs to include at least\n",
    "three sentences. Assign the whole sentence as a variable and output it\n",
    "\"\"\""
   ]
  },
  {
   "cell_type": "code",
   "execution_count": 3,
   "metadata": {},
   "outputs": [
    {
     "name": "stdout",
     "output_type": "stream",
     "text": [
      "\n",
      "    This is a multi-line comment.\n",
      "    Line 2\n",
      "    Last line\n",
      "    \n"
     ]
    }
   ],
   "source": [
    "def output_comment():\n",
    "   \n",
    "    comment = \"\"\"\n",
    "    This is a multi-line comment.\n",
    "    Line 2\n",
    "    Last line\n",
    "    \"\"\"\n",
    "    print(comment)\n",
    "\n",
    "output_comment()\n"
   ]
  },
  {
   "cell_type": "code",
   "execution_count": null,
   "metadata": {},
   "outputs": [],
   "source": []
  },
  {
   "cell_type": "code",
   "execution_count": null,
   "metadata": {
    "colab": {
     "base_uri": "https://localhost:8080/",
     "height": 53
    },
    "id": "LlwIgHOnkhpY",
    "outputId": "a8a5e106-2063-4aea-8161-494761a2da2a"
   },
   "outputs": [
    {
     "data": {
      "application/vnd.google.colaboratory.intrinsic+json": {
       "type": "string"
      },
      "text/plain": [
       "\"\\nCreate a function. In the function assign x_1 variable as 'tasty' and \\nx_2 variable as 'mouthwatering'. consider x_1 as the global variable and\\nx_2 as the local variable and print out from the function.\\n\""
      ]
     },
     "execution_count": 2,
     "metadata": {},
     "output_type": "execute_result"
    }
   ],
   "source": [
    "\"\"\"\n",
    "Create a function. In the function assign x_1 variable as 'tasty' and\n",
    "x_2 variable as 'mouthwatering'. consider x_1 as the global variable and\n",
    "x_2 as the local variable and print out from the function. The print function\n",
    "will be 'Pizza is ' with the variables\n",
    "\"\"\"\n"
   ]
  },
  {
   "cell_type": "code",
   "execution_count": 5,
   "metadata": {},
   "outputs": [
    {
     "name": "stdout",
     "output_type": "stream",
     "text": [
      "Pizza is tasty\n"
     ]
    }
   ],
   "source": [
    "def pizza():\n",
    "    global x_1\n",
    "    x_1 = 'tasty'\n",
    "    x_2 = 'mouthwatering'\n",
    "    print('Pizza is', x_1, x_2)\n",
    "\n",
    "pizza()\n"
   ]
  },
  {
   "cell_type": "code",
   "execution_count": null,
   "metadata": {
    "colab": {
     "base_uri": "https://localhost:8080/",
     "height": 53
    },
    "id": "habCvOjelHqA",
    "outputId": "a136af50-9552-42f4-e250-8ef8386271a9"
   },
   "outputs": [
    {
     "data": {
      "application/vnd.google.colaboratory.intrinsic+json": {
       "type": "string"
      },
      "text/plain": [
       "'\\ncreate two variables under any name. create manual user input for them.\\nunder conditional arrangement consider each as either integer type or float type\\nof entry and then add them. In the else condition put wrong entry if entry is a \\nstring type.\\n'"
      ]
     },
     "execution_count": 4,
     "metadata": {},
     "output_type": "execute_result"
    }
   ],
   "source": [
    "\"\"\"\n",
    "create two variables under any name. create manual user input for them.\n",
    "under conditional arrangement consider each as either integer type or float type\n",
    "of entry and then add them. In the else condition put wrong entry if entry is a\n",
    "string type.\n",
    "\"\"\""
   ]
  },
  {
   "cell_type": "code",
   "execution_count": 9,
   "metadata": {},
   "outputs": [
    {
     "name": "stdout",
     "output_type": "stream",
     "text": [
      "Enter the first value: 2.5\n",
      "Enter the second value: 2\n",
      "Result: 4.5\n"
     ]
    }
   ],
   "source": [
    "var1 = input(\"Enter num1: \")\n",
    "var2 = input(\"Enter num2: \")\n",
    "\n",
    "if var1.isdigit() and var2.isdigit():\n",
    "    result = int(var1) + int(var2)\n",
    "    print(\"Result:\", result)\n",
    "elif var1.replace('.', '', 1).isdigit() and var2.replace('.', '', 1).isdigit():\n",
    "    result = float(var1) + float(var2)\n",
    "    print(\"Result:\", result)\n",
    "else:\n",
    "    print(\"Wrong entry\")\n"
   ]
  },
  {
   "cell_type": "code",
   "execution_count": null,
   "metadata": {
    "colab": {
     "base_uri": "https://localhost:8080/",
     "height": 53
    },
    "id": "J2sqMR6VmHuo",
    "outputId": "e3bfe8ec-2ff5-4e2f-8a00-aad57df3cd85"
   },
   "outputs": [
    {
     "data": {
      "application/vnd.google.colaboratory.intrinsic+json": {
       "type": "string"
      },
      "text/plain": [
       "'\\nCreate any string, assign it into a variable. COnsider that the string needs to \\nhave a total of 13 characters in it. Using them \\na) Print the last 4 letters\\nb) Print the first 9 letters \\nc) Print the characters in the opposite direction from 7 to 13\\n'"
      ]
     },
     "execution_count": 6,
     "metadata": {},
     "output_type": "execute_result"
    }
   ],
   "source": [
    "\"\"\"\n",
    "Create any string, assign it into a variable. COnsider that the string needs to\n",
    "have a total of 13 characters in it. Using them\n",
    "a) Print the last 4 letters\n",
    "b) Print the first 9 letters\n",
    "c) Print the characters in the opposite direction from 7 to 13\n",
    "\"\"\"\n"
   ]
  },
  {
   "cell_type": "code",
   "execution_count": 14,
   "metadata": {},
   "outputs": [
    {
     "name": "stdout",
     "output_type": "stream",
     "text": [
      "Last 4: thon\n",
      "First 9: i_like_py\n",
      "from 7 to 13 in reverse: nohtyp_\n"
     ]
    }
   ],
   "source": [
    "string = \"i_like_python\"\n",
    "\n",
    "print(\"Last 4:\", string[-4:])\n",
    "\n",
    "print(\"First 9:\", string[:9])\n",
    "\n",
    "print(\"from 7 to 13 in reverse:\", string[6:13][::-1])\n"
   ]
  },
  {
   "cell_type": "code",
   "execution_count": null,
   "metadata": {
    "colab": {
     "base_uri": "https://localhost:8080/",
     "height": 70
    },
    "id": "4aG4iiRUlXP3",
    "outputId": "59e2abe1-2fff-4139-c1ad-72e46cb13a7d"
   },
   "outputs": [
    {
     "data": {
      "application/vnd.google.colaboratory.intrinsic+json": {
       "type": "string"
      },
      "text/plain": [
       "'\\nCreate any string, The string needs to have at least 7 characters in it.\\nPerform the following tasks\\na) Convert all the letters into uppercase \\nb) Convert all the letters into lowercase \\nc) Remove the first letter of the string with \\'L\\'\\nd) Make the string into two words and seperate them each into two items\\ne) Create two separate strings and assign them into a sperate string while maintaining a gap between two strings\"\\n'"
      ]
     },
     "execution_count": 8,
     "metadata": {},
     "output_type": "execute_result"
    }
   ],
   "source": [
    "\"\"\"\n",
    "Create any string, The string needs to have at least 7 characters in it.\n",
    "Perform the following tasks\n",
    "a) Convert all the letters into uppercase\n",
    "b) Convert all the letters into lowercase\n",
    "c) Remove the first letter of the string with 'L'\n",
    "d) Make the string into two words and seperate them each into two items\n",
    "e) Create two separate strings and assign them into a sperate string while maintaining a gap between two strings\"\n",
    "\"\"\""
   ]
  },
  {
   "cell_type": "code",
   "execution_count": 20,
   "metadata": {},
   "outputs": [
    {
     "name": "stdout",
     "output_type": "stream",
     "text": [
      "I_LIKE_PYTHON\n",
      "i_like_python\n",
      "L_like_python\n",
      "i_lik e_python\n",
      "i_lik    e_python\n"
     ]
    }
   ],
   "source": [
    "string = 'i_like_python'\n",
    "\n",
    "upper = string.upper()\n",
    "print(upper)\n",
    "\n",
    "lower = string.lower()\n",
    "print(lower)\n",
    "\n",
    "str1 = string[1:]\n",
    "str2 = 'L'+ str1\n",
    "print(str2)\n",
    "\n",
    "word1 = string[:5]\n",
    "word2 = string[5:]\n",
    "print(word1,word2)\n",
    "new = word1 + '    ' + word2\n",
    "print(new)"
   ]
  },
  {
   "cell_type": "code",
   "execution_count": null,
   "metadata": {
    "colab": {
     "base_uri": "https://localhost:8080/",
     "height": 87
    },
    "id": "W_rldkJGoUrv",
    "outputId": "6b8ddb59-74ec-4301-b47e-5c0587ede6ab"
   },
   "outputs": [
    {
     "data": {
      "application/vnd.google.colaboratory.intrinsic+json": {
       "type": "string"
      },
      "text/plain": [
       "'\\nCreate a small program for total bought out items from grocery\\nLets consider \\na_1 = total number of item a_1 \\nitem_name_a_1 = name of item a_1\\nprice_a_1 = price of item a_1\\ntotal_pay_a_1 = a_1 * price_a_1\\nsum = sum of all items\\nprint three my_order_a_1, my_order_a_2, my_order_a_3 by the .format method by the following line\\nprint \"I bought item_name_a_1 of a_1 numbers where each priced at price_a_1 for a total of total_pay_a_1 price\"\\nprint \"I totally paid a total of this amount of money sum for all of my items\\n'"
      ]
     },
     "execution_count": 9,
     "metadata": {},
     "output_type": "execute_result"
    }
   ],
   "source": [
    "\"\"\"\n",
    "Create a small program for total bought out items from grocery. A total of 3 items are bought at minimum.\n",
    "Lets consider\n",
    "a_1 = total number of item a_1\n",
    "item_name_a_1 = name of item a_1\n",
    "price_a_1 = price of item a_1\n",
    "total_pay_a_1 = a_1 * price_a_1\n",
    "sum = sum of all items\n",
    "print three my_order_a_1, my_order_a_2, my_order_a_3 by the .format method by the following line\n",
    "print \"I bought item_name_a_1 of a_1 numbers where each priced at price_a_1 for a total of total_pay_a_1 price\"\n",
    "print \"I totally paid a total of this amount of money sum for all of my items\n",
    "\"\"\"\n"
   ]
  },
  {
   "cell_type": "code",
   "execution_count": 22,
   "metadata": {},
   "outputs": [
    {
     "name": "stdout",
     "output_type": "stream",
     "text": [
      "I bought 5  Apple each at tk25 total of 125\n",
      "I bought 2  Banana each at tk10 total of 20\n",
      "I bought 3  Orange each at tk20 total of 60\n",
      "I totally paid a total of 205tk for all of my items\n"
     ]
    }
   ],
   "source": [
    "# Item 1\n",
    "a_1 = 5\n",
    "item_name_a_1 = \"Apple\"\n",
    "price_a_1 = 25\n",
    "total_pay_a_1 = a_1 * price_a_1\n",
    "\n",
    "# Item 2\n",
    "a_2 = 2\n",
    "item_name_a_2 = \"Banana\"\n",
    "price_a_2 = 10\n",
    "total_pay_a_2 = a_2 * price_a_2\n",
    "\n",
    "# Item 3\n",
    "a_3 = 3\n",
    "item_name_a_3 = \"Orange\"\n",
    "price_a_3 = 20\n",
    "total_pay_a_3 = a_3 * price_a_3\n",
    "\n",
    "sum = total_pay_a_1 + total_pay_a_2 + total_pay_a_3\n",
    "\n",
    "print(\"I bought {}  {} each at tk{} total of {}\".format(a_1, item_name_a_1, price_a_1, total_pay_a_1))\n",
    "print(\"I bought {}  {} each at tk{} total of {}\".format(a_2, item_name_a_2, price_a_2, total_pay_a_2))\n",
    "print(\"I bought {}  {} each at tk{} total of {}\".format(a_3, item_name_a_3, price_a_3, total_pay_a_3))\n",
    "\n",
    "print(\"I totally paid a total of {}tk for all of my items\".format(sum))\n"
   ]
  },
  {
   "cell_type": "code",
   "execution_count": null,
   "metadata": {
    "colab": {
     "base_uri": "https://localhost:8080/",
     "height": 53
    },
    "id": "oNgT2ATRq0wS",
    "outputId": "56833dd7-6492-4fb9-bd4f-dd6067f3fced"
   },
   "outputs": [
    {
     "data": {
      "application/vnd.google.colaboratory.intrinsic+json": {
       "type": "string"
      },
      "text/plain": [
       "'\\nAssign two variables by input. The variables strictly has to be integers. \\nCreate a program where \\nif var_1 > var_2 divide them \\nif var_1 < var_2 find their reminder \\nif var_1 == var_2 multiply them and \\n'"
      ]
     },
     "execution_count": 11,
     "metadata": {},
     "output_type": "execute_result"
    }
   ],
   "source": [
    "\"\"\"\n",
    "Assign two variables by input. The variables strictly has to be integers.\n",
    "Create a program where\n",
    "if var_1 > var_2 divide them\n",
    "if var_1 < var_2 find their reminder\n",
    "if var_1 == var_2 multiply them and\n",
    "\"\"\""
   ]
  },
  {
   "cell_type": "code",
   "execution_count": 23,
   "metadata": {},
   "outputs": [
    {
     "name": "stdout",
     "output_type": "stream",
     "text": [
      "Enter the first integer: 3\n",
      "Enter the second integer: 2\n",
      "Result: Division of var_1 by var_2 = 1.5\n"
     ]
    }
   ],
   "source": [
    "var_1 = int(input(\"Enter the first integer: \"))\n",
    "\n",
    "var_2 = int(input(\"Enter the second integer: \"))\n",
    "\n",
    "if var_1 > var_2:\n",
    "    result = var_1 / var_2\n",
    "    print(\"Result: Division of var_1 by var_2 =\", result)\n",
    "elif var_1 < var_2:\n",
    "    result = var_1 % var_2\n",
    "    print(\"Result: Remainder of var_1 divided by var_2 =\", result)\n",
    "else:\n",
    "    result = var_1 * var_2\n",
    "    print(\"Result: Multiplication of var_1 and var_2 =\", result)\n"
   ]
  },
  {
   "cell_type": "code",
   "execution_count": null,
   "metadata": {
    "colab": {
     "base_uri": "https://localhost:8080/",
     "height": 70
    },
    "id": "gMvdNuSBrV_t",
    "outputId": "2bfed67a-31db-4fbb-f7eb-1294976a041a"
   },
   "outputs": [
    {
     "data": {
      "application/vnd.google.colaboratory.intrinsic+json": {
       "type": "string"
      },
      "text/plain": [
       "\"\\nCreate a List. In the list assign stationery items named paper, copies, pen, eraser, pencil, sharpener, toner, gums, candy etc.\\na) Test if Pizza is in the list or not by loop\\nb) exchange the last item of the list with 'Printter'\\nc) exchange paper and copies with just 'notebooks'\\nd) Position pens as the 2nd item of the list\\n\""
      ]
     },
     "execution_count": 12,
     "metadata": {},
     "output_type": "execute_result"
    }
   ],
   "source": [
    "\"\"\"\n",
    "Create a List. In the list assign stationery items named paper, copies, pen, eraser, pencil, sharpener, toner, gums, candy etc.\n",
    "a) Test if Pizza is in the list or not by loop\n",
    "b) exchange the last item of the list with 'Printter'\n",
    "c) exchange paper and copies with just 'notebooks'\n",
    "d) Position pens as the 2nd item of the list\n",
    "\"\"\""
   ]
  },
  {
   "cell_type": "code",
   "execution_count": 24,
   "metadata": {},
   "outputs": [
    {
     "name": "stdout",
     "output_type": "stream",
     "text": [
      "Pizza is not in the list\n",
      "['notebooks', 'pen', 'eraser', 'pencil', 'sharpener', 'toner', 'gums', 'Printer']\n"
     ]
    }
   ],
   "source": [
    "stationery_list = ['paper', 'copies', 'pen', 'eraser', 'pencil', 'sharpener', 'toner', 'gums', 'candy']\n",
    "\n",
    "is_pizza_present = False\n",
    "for item in stationery_list:\n",
    "    if item.lower() == 'pizza':\n",
    "        is_pizza_present = True\n",
    "        break\n",
    "\n",
    "if is_pizza_present:\n",
    "    print(\"Pizza is in the list\")\n",
    "else:\n",
    "    print(\"Pizza is not in the list\")\n",
    "\n",
    "stationery_list[-1] = 'Printer'\n",
    "\n",
    "stationery_list[0:2] = ['notebooks']\n",
    "\n",
    "stationery_list.insert(1, stationery_list.pop(stationery_list.index('pen')))\n",
    "\n",
    "print(stationery_list)\n"
   ]
  },
  {
   "cell_type": "code",
   "execution_count": null,
   "metadata": {
    "colab": {
     "base_uri": "https://localhost:8080/",
     "height": 70
    },
    "id": "LCm3Ze9qtq-j",
    "outputId": "7db97ee9-e150-4b50-b3ad-b44630183eb2"
   },
   "outputs": [
    {
     "data": {
      "application/vnd.google.colaboratory.intrinsic+json": {
       "type": "string"
      },
      "text/plain": [
       "'\\nCreate a new list. Assign calculator, color pencils, whitener, parser as other items of the list \\na) Add just calculator to the previous list \\nb) Add the complete list with previous list in a new list \\nc) Delete the third item from the list \\nd) Delete the last item from the list using pop method.\\ne) Delete the third last item from the list using pop method.\\n'"
      ]
     },
     "execution_count": 13,
     "metadata": {},
     "output_type": "execute_result"
    }
   ],
   "source": [
    "\"\"\"\n",
    "Create a new list. Assign calculator, color pencils, whitener, parser as other items of the list\n",
    "a) Add just calculator to the previous list\n",
    "b) Add the complete list with previous list in a new list\n",
    "c) Delete the third item from the list\n",
    "d) Delete the last item from the list using pop method.\n",
    "e) Delete the third last item from the list using pop method.\n",
    "\"\"\""
   ]
  },
  {
   "cell_type": "code",
   "execution_count": 30,
   "metadata": {},
   "outputs": [],
   "source": [
    "newlist = ['calculator', 'color pencils', 'whitener', 'parser']\n",
    "stationery_list.append('calculator')\n",
    "\n",
    "newlist1 = stationery_list+newlist\n",
    "\n",
    "del newlist1[3]\n",
    "newlist1.pop(-1)\n",
    "newlist1.pop(-3)"
   ]
  },
  {
   "cell_type": "code",
   "execution_count": null,
   "metadata": {
    "id": "XadkHh3Du4uK"
   },
   "outputs": [],
   "source": [
    "\"\"\"\n",
    "In the newly created list\n",
    "a) Print using while loop all the items.\n",
    "b) Print using for loop all the items.\n",
    "c) Using list comprehension loop through the list\n",
    "d) Create an empty list and append all the items from the list which has letter 'e' in it using for loop\n",
    "\"\"\""
   ]
  },
  {
   "cell_type": "code",
   "execution_count": null,
   "metadata": {
    "colab": {
     "base_uri": "https://localhost:8080/",
     "height": 53
    },
    "id": "kESzCTxLv_1y",
    "outputId": "032d98a4-fd29-4249-9bb1-adf74297c84b"
   },
   "outputs": [
    {
     "data": {
      "application/vnd.google.colaboratory.intrinsic+json": {
       "type": "string"
      },
      "text/plain": [
       "'\\nCreate a list of numbers. \\na) Using the list of numbers sort the list in a descending order.\\nb) Sort the based on the average of number closeness. Show the average number as input in the function.\\n'"
      ]
     },
     "execution_count": 14,
     "metadata": {},
     "output_type": "execute_result"
    }
   ],
   "source": [
    "\"\"\"\n",
    "Create a list of numbers.\n",
    "a) Using the list of numbers sort the list in a descending order.\n",
    "b) Sort the based on the average of number closeness. Show the average number as input in the function.\n",
    "\"\"\"\n"
   ]
  },
  {
   "cell_type": "code",
   "execution_count": null,
   "metadata": {
    "colab": {
     "base_uri": "https://localhost:8080/",
     "height": 53
    },
    "id": "8FHXUb5OxCNG",
    "outputId": "1923c22c-72b1-4dcd-ece5-14042924c0ec"
   },
   "outputs": [
    {
     "data": {
      "application/vnd.google.colaboratory.intrinsic+json": {
       "type": "string"
      },
      "text/plain": [
       "'\\nCreate a dictionary. In the dictionary assign food_name, food_type, food_taste with three different values.\\na) Add a new item as food_color with a value and print the list \\nb) Add a new item as food_price and print it.\\nc) using the update method change the price for item 2\\n'"
      ]
     },
     "execution_count": 16,
     "metadata": {},
     "output_type": "execute_result"
    }
   ],
   "source": [
    "\"\"\"\n",
    "Create a dictionary. In the dictionary assign food_name, food_type, food_taste with three different values.\n",
    "a) Add a new item as food_color with a value and print the list\n",
    "b) Add a new item as food_price and print it.\n",
    "c) using the update method change the price for item 2\n",
    "\"\"\""
   ]
  },
  {
   "cell_type": "code",
   "execution_count": null,
   "metadata": {
    "id": "_N9PzuxCxEYJ"
   },
   "outputs": [],
   "source": [
    "\"\"\"\n",
    "Create program where we can calculate the area of triangle using the following formula\n",
    "s = (a+b+c)/2\n",
    "area = √(s(s-a)*(s-b)*(s-c)\n",
    "where a, b, c are the sides of triangle.\n",
    "\"\"\""
   ]
  },
  {
   "cell_type": "code",
   "execution_count": null,
   "metadata": {
    "colab": {
     "base_uri": "https://localhost:8080/",
     "height": 35
    },
    "id": "QlbUMDWoy1zu",
    "outputId": "8d2598bf-a3f8-4b5d-c26f-2d60fc568804"
   },
   "outputs": [
    {
     "data": {
      "application/vnd.google.colaboratory.intrinsic+json": {
       "type": "string"
      },
      "text/plain": [
       "'\\nCreate a program where we check the entered number is even or not\"\\n'"
      ]
     },
     "execution_count": 18,
     "metadata": {},
     "output_type": "execute_result"
    }
   ],
   "source": [
    "\"\"\"\n",
    "Create a program where we check the entered number is even or not\"\n",
    "\"\"\""
   ]
  },
  {
   "cell_type": "code",
   "execution_count": null,
   "metadata": {},
   "outputs": [],
   "source": [
    "number = int(input(\"Enter a number: \"))\n",
    "\n",
    "if number % 2 == 0:\n",
    "    print(\"The number\", number, \"is even.\")\n",
    "else:\n",
    "    print(\"The number\", number, \"is odd.\")\n"
   ]
  },
  {
   "cell_type": "code",
   "execution_count": null,
   "metadata": {
    "colab": {
     "base_uri": "https://localhost:8080/",
     "height": 35
    },
    "id": "OIHGckf2y3XA",
    "outputId": "f0a9e4cc-816c-43b8-c77a-a61cb3475460"
   },
   "outputs": [
    {
     "data": {
      "application/vnd.google.colaboratory.intrinsic+json": {
       "type": "string"
      },
      "text/plain": [
       "'\\nCreate program to check if an entered number is a prime or not.\\n'"
      ]
     },
     "execution_count": 19,
     "metadata": {},
     "output_type": "execute_result"
    }
   ],
   "source": [
    "\"\"\"\n",
    "Create program to check if an entered number is a prime or not.\n",
    "\"\"\""
   ]
  },
  {
   "cell_type": "code",
   "execution_count": null,
   "metadata": {},
   "outputs": [],
   "source": [
    "number = int(input(\"Enter a number: \"))\n",
    "\n",
    "is_prime = True\n",
    "if number < 2:\n",
    "    is_prime = False\n",
    "else:\n",
    "    for i in range(2, int(number ** 0.5) + 1):\n",
    "        if number % i == 0:\n",
    "            is_prime = False\n",
    "            break\n",
    "\n",
    "if is_prime:\n",
    "    print(\"The number\", number, \"is a prime number.\")\n",
    "else:\n",
    "    print(\"The number\", number, \"is not a prime number.\")\n"
   ]
  },
  {
   "cell_type": "code",
   "execution_count": null,
   "metadata": {
    "colab": {
     "base_uri": "https://localhost:8080/",
     "height": 35
    },
    "id": "lDVOLuxPzKnH",
    "outputId": "b681261a-dcd7-425b-f1e8-0bc0720d5c1a"
   },
   "outputs": [
    {
     "data": {
      "application/vnd.google.colaboratory.intrinsic+json": {
       "type": "string"
      },
      "text/plain": [
       "'\\nCreate a simple program of calculator.\\n'"
      ]
     },
     "execution_count": 20,
     "metadata": {},
     "output_type": "execute_result"
    }
   ],
   "source": [
    "\"\"\"\n",
    "Create a simple program of calculator.\n",
    "\"\"\""
   ]
  },
  {
   "cell_type": "code",
   "execution_count": null,
   "metadata": {
    "colab": {
     "base_uri": "https://localhost:8080/",
     "height": 35
    },
    "id": "7REigdgJzkto",
    "outputId": "967df546-b3a8-4d8d-bac2-643a8aa4ac9c"
   },
   "outputs": [
    {
     "data": {
      "application/vnd.google.colaboratory.intrinsic+json": {
       "type": "string"
      },
      "text/plain": [
       "'\\nUsing a function create python program for which we the final accumulated amount through compount interest\\n'"
      ]
     },
     "execution_count": 21,
     "metadata": {},
     "output_type": "execute_result"
    }
   ],
   "source": [
    "\"\"\"\n",
    "Using a function create python program for which we the final accumulated amount through compount interest\n",
    "\"\"\""
   ]
  }
 ],
 "metadata": {
  "colab": {
   "provenance": []
  },
  "kernelspec": {
   "display_name": "Python 3 (ipykernel)",
   "language": "python",
   "name": "python3"
  },
  "language_info": {
   "codemirror_mode": {
    "name": "ipython",
    "version": 3
   },
   "file_extension": ".py",
   "mimetype": "text/x-python",
   "name": "python",
   "nbconvert_exporter": "python",
   "pygments_lexer": "ipython3",
   "version": "3.10.9"
  }
 },
 "nbformat": 4,
 "nbformat_minor": 1
}
