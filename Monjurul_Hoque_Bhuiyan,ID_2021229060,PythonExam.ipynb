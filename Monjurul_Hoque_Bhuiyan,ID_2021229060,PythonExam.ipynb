{
  "nbformat": 4,
  "nbformat_minor": 0,
  "metadata": {
    "colab": {
      "provenance": []
    },
    "kernelspec": {
      "name": "python3",
      "display_name": "Python 3"
    },
    "language_info": {
      "name": "python"
    }
  },
  "cells": [
    {
      "cell_type": "code",
      "source": [
        "x_1 = \"tasty\"  # global variable\n",
        "\n",
        "def pizza_function():\n",
        "    x_2 = \"mouthwatering\"  # local variable\n",
        "    print(\"Pizza is\", x_1, x_2)\n",
        "\n",
        "pizza_function()\n"
      ],
      "metadata": {
        "colab": {
          "base_uri": "https://localhost:8080/"
        },
        "id": "3bjHiDKs7vHm",
        "outputId": "df915113-6709-4001-ee1b-b6b88c8404bd"
      },
      "execution_count": null,
      "outputs": [
        {
          "output_type": "stream",
          "name": "stdout",
          "text": [
            "Pizza is tasty mouthwatering\n"
          ]
        }
      ]
    },
    {
      "cell_type": "code",
      "source": [
        "def add_numbers(a, b):\n",
        "    \"\"\"Adds two numbers, considering each as either integer type or float type.\n",
        "\n",
        "    Args:\n",
        "        a (int or float): The first number to add.\n",
        "        b (int or float): The second number to add.\n",
        "\n",
        "    Returns:\n",
        "        int or float: The sum of the two numbers.\n",
        "    \"\"\"\n",
        "\n",
        "    if isinstance(a, int) and isinstance(b, int):\n",
        "        return a + b\n",
        "    elif isinstance(a, float) and isinstance(b, float):\n",
        "        return a + b\n",
        "    else:\n",
        "        print(\"Wrong entry\")\n",
        "        return None\n",
        "\n",
        "if __name__ == \"__main__\":\n",
        "    a = input(\"Enter first number: \")\n",
        "    b = input(\"Enter second number: \")\n",
        "\n",
        "    try:\n",
        "        a = int(a)\n",
        "        b = int(b)\n",
        "    except ValueError:\n",
        "        try:\n",
        "            a = float(a)\n",
        "            b = float(b)\n",
        "        except ValueError:\n",
        "            print(\"Wrong entry\")\n",
        "            exit()\n",
        "\n",
        "    sum = add_numbers(a, b)\n",
        "    print(\"The sum of the two numbers is\", sum)\n"
      ],
      "metadata": {
        "colab": {
          "base_uri": "https://localhost:8080/"
        },
        "id": "O6LrXd1W8Cnt",
        "outputId": "cc1b9d26-3725-4c16-e61e-f443f1e53dd2"
      },
      "execution_count": null,
      "outputs": [
        {
          "output_type": "stream",
          "name": "stdout",
          "text": [
            "Enter first number: 5\n",
            "Enter second number: 7\n",
            "The sum of the two numbers is 12\n"
          ]
        }
      ]
    },
    {
      "cell_type": "code",
      "source": [
        "def output_comments():\n",
        "    comments = \"\"\"\n",
        "    This is a multi-line comment.\n",
        "    It includes at least three sentences.\n",
        "    The sentences are:\n",
        "    * My name is Monjur.\n",
        "    * I am majoring in Finance and Economics.\n",
        "    * This is my second last semester.\n",
        "    \"\"\"\n",
        "    return comments\n",
        "\n",
        "def main():\n",
        "    comments = output_comments()\n",
        "    print(comments)\n",
        "\n",
        "if __name__ == \"__main__\":\n",
        "    main()\n"
      ],
      "metadata": {
        "colab": {
          "base_uri": "https://localhost:8080/"
        },
        "id": "3V670gPREgLx",
        "outputId": "e189592d-5fc6-40fb-bb76-8997ae666efb"
      },
      "execution_count": null,
      "outputs": [
        {
          "output_type": "stream",
          "name": "stdout",
          "text": [
            "\n",
            "    This is a multi-line comment.\n",
            "    It includes at least three sentences.\n",
            "    The sentences are:\n",
            "    * My name is Monjur.\n",
            "    * I am majoring in Finance and Economics.\n",
            "    * This is my second last semester.\n",
            "    \n"
          ]
        }
      ]
    },
    {
      "cell_type": "code",
      "source": [
        "string = \"This is a 13-character string\"\n",
        "\n",
        "# Print the last 4 letters\n",
        "print(string[-4:])\n",
        "\n",
        "# Print the first 9 letters\n",
        "print(string[:9])\n",
        "\n",
        "# Print the characters in the opposite direction from 7 to 13\n",
        "print(string[7:13][::-1])\n"
      ],
      "metadata": {
        "colab": {
          "base_uri": "https://localhost:8080/"
        },
        "id": "aaVvFX6S8Qtd",
        "outputId": "83490f6c-652e-48a4-89fa-2b74c8c37972"
      },
      "execution_count": null,
      "outputs": [
        {
          "output_type": "stream",
          "name": "stdout",
          "text": [
            "ring\n",
            "This is a\n",
            "-31 a \n"
          ]
        }
      ]
    },
    {
      "cell_type": "code",
      "source": [
        "string = \"This is a 7-character string\"\n",
        "\n",
        "# Convert all the letters into uppercase\n",
        "uppercase_string = string.upper()\n",
        "\n",
        "# Convert all the letters into lowercase\n",
        "lowercase_string = string.lower()\n",
        "\n",
        "# Remove the first letter of the string with 'L'\n",
        "new_string = string[1:] + \"L\"\n",
        "\n",
        "# Make the string into two words and seperate them each into two items\n",
        "words = string.split(\" \")\n",
        "first_word = words[0]\n",
        "second_word = words[1]\n",
        "\n",
        "# Create two separate strings and assign them into a sperate string while maintaining a gap between two strings\n",
        "final_string = \" \" + first_word + \" L \" + second_word\n",
        "\n",
        "print(\"Original string:\", string)\n",
        "print(\"Uppercase string:\", uppercase_string)\n",
        "print(\"Lowercase string:\", lowercase_string)\n",
        "print(\"String after removing the first letter:\", new_string)\n",
        "print(\"Two words in the string:\", words)\n",
        "print(\"Final string:\", final_string)\n"
      ],
      "metadata": {
        "colab": {
          "base_uri": "https://localhost:8080/"
        },
        "id": "FRuCdz3W9JG9",
        "outputId": "1db72c1d-4355-45cc-c220-30d4ab50bfb0"
      },
      "execution_count": null,
      "outputs": [
        {
          "output_type": "stream",
          "name": "stdout",
          "text": [
            "Original string: This is a 7-character string\n",
            "Uppercase string: THIS IS A 7-CHARACTER STRING\n",
            "Lowercase string: this is a 7-character string\n",
            "String after removing the first letter: his is a 7-character stringL\n",
            "Two words in the string: ['This', 'is', 'a', '7-character', 'string']\n",
            "Final string:  This L is\n"
          ]
        }
      ]
    },
    {
      "cell_type": "code",
      "source": [
        "def grocery_shopping(a_1, item_name_a_1, price_a_1, total_pay_a_1, sum):\n",
        "    \"\"\"Prints the total amount paid for all items.\n",
        "\n",
        "    Args:\n",
        "        a_1 (int): The number of item a_1.\n",
        "        item_name_a_1 (str): The name of item a_1.\n",
        "        price_a_1 (float): The price of item a_1.\n",
        "        total_pay_a_1 (float): The total price of item a_1.\n",
        "        sum (float): The sum of all items.\n",
        "\n",
        "    Returns:\n",
        "        None.\n",
        "    \"\"\"\n",
        "\n",
        "    print(\"I bought {} of {} numbers where each priced at {} for a total of {} price\".format(\n",
        "        item_name_a_1, a_1, price_a_1, total_pay_a_1))\n",
        "    sum += total_pay_a_1\n",
        "    print(\"I totally paid a total of this amount of money {} for all of my items\".format(sum))\n",
        "\n",
        "if __name__ == \"__main__\":\n",
        "    a_1 = 3\n",
        "    item_name_a_1 = \"Apple\"\n",
        "    price_a_1 = 2.5\n",
        "    total_pay_a_1 = a_1 * price_a_1\n",
        "    sum = 0\n",
        "\n",
        "    grocery_shopping(a_1, item_name_a_1, price_a_1, total_pay_a_1, sum)\n"
      ],
      "metadata": {
        "colab": {
          "base_uri": "https://localhost:8080/"
        },
        "id": "EAbm-x3z9nEd",
        "outputId": "fee7280c-2eb3-45ab-a3df-c740c32fc849"
      },
      "execution_count": null,
      "outputs": [
        {
          "output_type": "stream",
          "name": "stdout",
          "text": [
            "I bought Apple of 3 numbers where each priced at 2.5 for a total of 7.5 price\n",
            "I totally paid a total of this amount of money 7.5 for all of my items\n"
          ]
        }
      ]
    },
    {
      "cell_type": "code",
      "source": [
        "def calculate_operations(var_1, var_2):\n",
        "    \"\"\"Performs the following operations on var_1 and var_2:\n",
        "\n",
        "    * If var_1 > var_2, divides them.\n",
        "    * If var_1 < var_2, finds their reminder.\n",
        "    * If var_1 == var_2, multiplies them.\n",
        "\n",
        "    Args:\n",
        "        var_1 (int): The first variable.\n",
        "        var_2 (int): The second variable.\n",
        "\n",
        "    Returns:\n",
        "        int or float: The result of the operation.\n",
        "    \"\"\"\n",
        "\n",
        "    if var_1 > var_2:\n",
        "        return var_1 / var_2\n",
        "    elif var_1 < var_2:\n",
        "        return var_1 % var_2\n",
        "    else:\n",
        "        return var_1 * var_2\n",
        "\n",
        "if __name__ == \"__main__\":\n",
        "    var_1 = int(input(\"Enter the first number: \"))\n",
        "    var_2 = int(input(\"Enter the second number: \"))\n",
        "\n",
        "    result = calculate_operations(var_1, var_2)\n",
        "    print(\"The result of the operation is\", result)\n"
      ],
      "metadata": {
        "colab": {
          "base_uri": "https://localhost:8080/"
        },
        "id": "HwkMz2w_94N1",
        "outputId": "a2394bbd-4dbf-473b-e86d-9de888e6e0e9"
      },
      "execution_count": null,
      "outputs": [
        {
          "output_type": "stream",
          "name": "stdout",
          "text": [
            "Enter the first number: 7\n",
            "Enter the second number: 12\n",
            "The result of the operation is 7\n"
          ]
        }
      ]
    },
    {
      "cell_type": "code",
      "source": [
        "stationery_items = [\"paper\", \"copies\", \"pen\", \"eraser\", \"pencil\", \"sharpener\", \"toner\", \"gums\", \"candy\"]\n",
        "\n",
        "# Test if Pizza is in the list or not by loop\n",
        "\n",
        "is_pizza_in_list = False\n",
        "for item in stationery_items:\n",
        "    if item == \"Pizza\":\n",
        "        is_pizza_in_list = True\n",
        "        break\n",
        "\n",
        "if is_pizza_in_list:\n",
        "    print(\"Pizza is in the list\")\n",
        "else:\n",
        "    print(\"Pizza is not in the list\")\n",
        "\n",
        "# Exchange the last item of the list with 'Printer'\n",
        "\n",
        "last_item = stationery_items[-1]\n",
        "stationery_items[-1] = \"Printer\"\n",
        "stationery_items.append(last_item)\n",
        "\n",
        "# Exchange paper and copies with just 'notebooks'\n",
        "\n",
        "paper_index = stationery_items.index(\"paper\")\n",
        "copies_index = stationery_items.index(\"copies\")\n",
        "stationery_items[paper_index] = \"notebooks\"\n",
        "stationery_items[copies_index] = \"notebooks\"\n",
        "\n",
        "# Position pens as the 2nd item of the list\n",
        "\n",
        "pen_index = stationery_items.index(\"pen\")\n",
        "stationery_items.insert(1, stationery_items.pop(pen_index))\n",
        "\n",
        "print(stationery_items)\n"
      ],
      "metadata": {
        "colab": {
          "base_uri": "https://localhost:8080/"
        },
        "id": "Nw4JQ8n3-Cvk",
        "outputId": "352ee730-0fce-4ce4-edda-74192164fc79"
      },
      "execution_count": null,
      "outputs": [
        {
          "output_type": "stream",
          "name": "stdout",
          "text": [
            "Pizza is not in the list\n",
            "['notebooks', 'pen', 'notebooks', 'eraser', 'pencil', 'sharpener', 'toner', 'gums', 'Printer', 'candy']\n"
          ]
        }
      ]
    },
    {
      "cell_type": "code",
      "source": [
        "stationery_items = [\"paper\", \"copies\", \"pen\", \"eraser\", \"pencil\", \"sharpener\", \"toner\", \"gums\", \"candy\"]\n",
        "new_items = [\"calculator\", \"color pencils\", \"whitener\", \"parser\"]\n",
        "\n",
        "# Add just calculator to the previous list\n",
        "\n",
        "stationery_items.append(\"calculator\")\n",
        "\n",
        "# Add the complete list with previous list in a new list\n",
        "\n",
        "combined_list = stationery_items + new_items\n",
        "\n",
        "# Delete the third item from the list\n",
        "\n",
        "third_item = combined_list[2]\n",
        "combined_list.remove(third_item)\n",
        "\n",
        "# Delete the last item from the list using pop method\n",
        "\n",
        "last_item = combined_list.pop()\n",
        "\n",
        "# Delete the third last item from the list using pop method\n",
        "\n",
        "third_last_item = combined_list.pop(-3)\n",
        "\n",
        "print(stationery_items)\n",
        "print(new_items)\n",
        "print(combined_list)\n"
      ],
      "metadata": {
        "colab": {
          "base_uri": "https://localhost:8080/"
        },
        "id": "XeIiac2t-YAO",
        "outputId": "a77ef6ee-807b-4bd5-c408-d042014e6070"
      },
      "execution_count": null,
      "outputs": [
        {
          "output_type": "stream",
          "name": "stdout",
          "text": [
            "['paper', 'copies', 'pen', 'eraser', 'pencil', 'sharpener', 'toner', 'gums', 'candy', 'calculator']\n",
            "['calculator', 'color pencils', 'whitener', 'parser']\n",
            "['paper', 'copies', 'eraser', 'pencil', 'sharpener', 'toner', 'gums', 'candy', 'calculator', 'color pencils', 'whitener']\n"
          ]
        }
      ]
    },
    {
      "cell_type": "code",
      "source": [
        "combined_list = [\"paper\", \"copies\", \"pen\", \"eraser\", \"pencil\", \"sharpener\", \"toner\", \"gums\", \"calculator\", \"color pencils\", \"whitener\"]\n",
        "\n",
        "# Print using while loop all the items\n",
        "\n",
        "index = 0\n",
        "while index < len(combined_list):\n",
        "    print(combined_list[index])\n",
        "    index += 1\n",
        "\n",
        "# Print using for loop all the items\n",
        "\n",
        "for item in combined_list:\n",
        "    print(item)\n",
        "\n",
        "# Using list comprehension loop through the list\n",
        "\n",
        "new_list = [item for item in combined_list if \"e\" in item]\n",
        "print(new_list)\n",
        "\n",
        "# Create an empty list and append all the items from the list which has letter 'e' in it using for loop\n",
        "\n",
        "empty_list = []\n",
        "for item in combined_list:\n",
        "    if \"e\" in item:\n",
        "        empty_list.append(item)\n",
        "print(empty_list)\n"
      ],
      "metadata": {
        "colab": {
          "base_uri": "https://localhost:8080/"
        },
        "id": "KQaQVhsr-iV8",
        "outputId": "31588fd6-228a-4159-8b21-5d7c66638f90"
      },
      "execution_count": null,
      "outputs": [
        {
          "output_type": "stream",
          "name": "stdout",
          "text": [
            "paper\n",
            "copies\n",
            "pen\n",
            "eraser\n",
            "pencil\n",
            "sharpener\n",
            "toner\n",
            "gums\n",
            "calculator\n",
            "color pencils\n",
            "whitener\n",
            "paper\n",
            "copies\n",
            "pen\n",
            "eraser\n",
            "pencil\n",
            "sharpener\n",
            "toner\n",
            "gums\n",
            "calculator\n",
            "color pencils\n",
            "whitener\n",
            "['paper', 'copies', 'pen', 'eraser', 'pencil', 'sharpener', 'toner', 'color pencils', 'whitener']\n",
            "['paper', 'copies', 'pen', 'eraser', 'pencil', 'sharpener', 'toner', 'color pencils', 'whitener']\n"
          ]
        }
      ]
    },
    {
      "cell_type": "code",
      "source": [
        "numbers = [10, 4, 2, 9, 7, 5, 3, 8, 6]\n",
        "\n",
        "# Sort the list in descending order\n",
        "\n",
        "numbers.sort(reverse=True)\n",
        "print(\"The list of numbers in descending order is:\", numbers)\n",
        "\n",
        "# Sort the list based on the average of number closeness\n",
        "\n",
        "average = sum(numbers) / len(numbers)\n",
        "\n",
        "def sort_by_closeness(number):\n",
        "    return abs(number - average)\n",
        "\n",
        "numbers.sort(key=sort_by_closeness)\n",
        "print(\"The list of numbers sorted by closeness to the average is:\", numbers)\n"
      ],
      "metadata": {
        "colab": {
          "base_uri": "https://localhost:8080/",
          "height": 252
        },
        "id": "DvNCeqSP-2l-",
        "outputId": "c4272133-5af0-4b97-ff7f-1afaaecc9a90"
      },
      "execution_count": null,
      "outputs": [
        {
          "output_type": "stream",
          "name": "stdout",
          "text": [
            "The list of numbers in descending order is: [10, 9, 8, 7, 6, 5, 4, 3, 2]\n"
          ]
        },
        {
          "output_type": "error",
          "ename": "TypeError",
          "evalue": "ignored",
          "traceback": [
            "\u001b[0;31m---------------------------------------------------------------------------\u001b[0m",
            "\u001b[0;31mTypeError\u001b[0m                                 Traceback (most recent call last)",
            "\u001b[0;32m<ipython-input-14-4a736fd06fef>\u001b[0m in \u001b[0;36m<cell line: 10>\u001b[0;34m()\u001b[0m\n\u001b[1;32m      8\u001b[0m \u001b[0;31m# Sort the list based on the average of number closeness\u001b[0m\u001b[0;34m\u001b[0m\u001b[0;34m\u001b[0m\u001b[0m\n\u001b[1;32m      9\u001b[0m \u001b[0;34m\u001b[0m\u001b[0m\n\u001b[0;32m---> 10\u001b[0;31m \u001b[0maverage\u001b[0m \u001b[0;34m=\u001b[0m \u001b[0msum\u001b[0m\u001b[0;34m(\u001b[0m\u001b[0mnumbers\u001b[0m\u001b[0;34m)\u001b[0m \u001b[0;34m/\u001b[0m \u001b[0mlen\u001b[0m\u001b[0;34m(\u001b[0m\u001b[0mnumbers\u001b[0m\u001b[0;34m)\u001b[0m\u001b[0;34m\u001b[0m\u001b[0;34m\u001b[0m\u001b[0m\n\u001b[0m\u001b[1;32m     11\u001b[0m \u001b[0;34m\u001b[0m\u001b[0m\n\u001b[1;32m     12\u001b[0m \u001b[0;32mdef\u001b[0m \u001b[0msort_by_closeness\u001b[0m\u001b[0;34m(\u001b[0m\u001b[0mnumber\u001b[0m\u001b[0;34m)\u001b[0m\u001b[0;34m:\u001b[0m\u001b[0;34m\u001b[0m\u001b[0;34m\u001b[0m\u001b[0m\n",
            "\u001b[0;31mTypeError\u001b[0m: 'int' object is not callable"
          ]
        }
      ]
    },
    {
      "cell_type": "code",
      "source": [
        "food_dict = {\n",
        "    \"food_name\": \"Pizza\",\n",
        "    \"food_type\": \"Italian\",\n",
        "    \"food_taste\": \"Delicious\",\n",
        "}\n",
        "\n",
        "# Add a new item as food_color with a value and print the list\n",
        "\n",
        "food_dict[\"food_color\"] = \"Red\"\n",
        "print(food_dict)\n",
        "\n",
        "# Add a new item as food_price and print it\n",
        "\n",
        "food_dict[\"food_price\"] = 10.99\n",
        "print(food_dict)\n",
        "\n",
        "# using the update method change the price for item 2\n",
        "\n",
        "food_dict.update({\"food_price\": 12.99})\n",
        "print(food_dict)\n"
      ],
      "metadata": {
        "colab": {
          "base_uri": "https://localhost:8080/"
        },
        "id": "RbA9GDcY_czL",
        "outputId": "2ae95e81-f441-4188-882f-c1888d8a89c7"
      },
      "execution_count": null,
      "outputs": [
        {
          "output_type": "stream",
          "name": "stdout",
          "text": [
            "{'food_name': 'Pizza', 'food_type': 'Italian', 'food_taste': 'Delicious', 'food_color': 'Red'}\n",
            "{'food_name': 'Pizza', 'food_type': 'Italian', 'food_taste': 'Delicious', 'food_color': 'Red', 'food_price': 10.99}\n",
            "{'food_name': 'Pizza', 'food_type': 'Italian', 'food_taste': 'Delicious', 'food_color': 'Red', 'food_price': 12.99}\n"
          ]
        }
      ]
    },
    {
      "cell_type": "code",
      "source": [
        "import math\n",
        "\n",
        "def area_of_triangle(a, b, c):\n",
        "    \"\"\"Calculates the area of a triangle given the three sides.\n",
        "\n",
        "    Args:\n",
        "        a (float): The length of side a.\n",
        "        b (float): The length of side b.\n",
        "        c (float): The length of side c.\n",
        "\n",
        "    Returns:\n",
        "        float: The area of the triangle.\n",
        "    \"\"\"\n",
        "\n",
        "    s = (a + b + c) / 2\n",
        "    area = math.sqrt(s * (s - a) * (s - b) * (s - c))\n",
        "    return area\n",
        "\n",
        "if __name__ == \"__main__\":\n",
        "    a = 3\n",
        "    b = 4\n",
        "    c = 5\n",
        "    area = area_of_triangle(a, b, c)\n",
        "    print(\"The area of the triangle is\", area)\n"
      ],
      "metadata": {
        "colab": {
          "base_uri": "https://localhost:8080/"
        },
        "id": "AsNbHVLx_yyd",
        "outputId": "07192827-ab5b-43cb-d006-84be0aca742e"
      },
      "execution_count": null,
      "outputs": [
        {
          "output_type": "stream",
          "name": "stdout",
          "text": [
            "The area of the triangle is 6.0\n"
          ]
        }
      ]
    },
    {
      "cell_type": "code",
      "source": [
        "def is_even(number):\n",
        "    if number % 2 == 0:\n",
        "        return True\n",
        "    else:\n",
        "        return False\n",
        "\n",
        "number = int(input(\"Enter a number: \"))\n",
        "\n",
        "if is_even(number):\n",
        "    print(f\"The number {number} is even\")\n",
        "else:\n",
        "    print(f\"The number {number} is odd\")\n"
      ],
      "metadata": {
        "colab": {
          "base_uri": "https://localhost:8080/"
        },
        "id": "AO2HdXh1AMy0",
        "outputId": "3ef90498-9ad9-4d9a-f6d1-af77bcd0e989"
      },
      "execution_count": null,
      "outputs": [
        {
          "output_type": "stream",
          "name": "stdout",
          "text": [
            "Enter a number: 5\n",
            "The number 5 is odd\n"
          ]
        }
      ]
    },
    {
      "cell_type": "code",
      "source": [
        "def add(number1, number2):\n",
        "    return number1 + number2\n",
        "\n",
        "def subtract(number1, number2):\n",
        "    return number1 - number2\n",
        "\n",
        "def multiply(number1, number2):\n",
        "    return number1 * number2\n",
        "\n",
        "def divide(number1, number2):\n",
        "    return number1 / number2\n",
        "\n",
        "def main():\n",
        "    operation = input(\"Select operation(add, subtract, multiply, divide): \")\n",
        "    number1 = int(input(\"Enter first number: \"))\n",
        "    number2 = int(input(\"Enter second number: \"))\n",
        "\n",
        "    if operation == \"add\":\n",
        "        print(number1, \"+\", number2, \"=\", add(number1, number2))\n",
        "    elif operation == \"subtract\":\n",
        "        print(number1, \"-\", number2, \"=\", subtract(number1, number2))\n",
        "    elif operation == \"multiply\":\n",
        "        print(number1, \"*\", number2, \"=\", multiply(number1, number2))\n",
        "    elif operation == \"divide\":\n",
        "        print(number1, \"/\", number2, \"=\", divide(number1, number2))\n",
        "    else:\n",
        "        print(\"Invalid operation\")\n",
        "\n",
        "if __name__ == \"__main__\":\n",
        "    main()\n"
      ],
      "metadata": {
        "colab": {
          "base_uri": "https://localhost:8080/"
        },
        "id": "RgXL9PYAARML",
        "outputId": "486562d6-3bd7-4a0a-b161-a26e98d86037"
      },
      "execution_count": null,
      "outputs": [
        {
          "output_type": "stream",
          "name": "stdout",
          "text": [
            "Select operation(add, subtract, multiply, divide): add\n",
            "Enter first number: 5\n",
            "Enter second number: 7\n",
            "5 + 7 = 12\n"
          ]
        }
      ]
    },
    {
      "cell_type": "code",
      "source": [
        "def compound_interest(principal, interest_rate, number_of_years):\n",
        "    accumulated_amount = principal * (1 + interest_rate) ** number_of_years\n",
        "    return accumulated_amount\n",
        "\n",
        "def main():\n",
        "    principal = int(input(\"Enter the principal amount: \"))\n",
        "    interest_rate = float(input(\"Enter the interest rate: \"))\n",
        "    number_of_years = int(input(\"Enter the number of years: \"))\n",
        "\n",
        "    accumulated_amount = compound_interest(principal, interest_rate, number_of_years)\n",
        "    print(\"The accumulated amount is\", accumulated_amount)\n",
        "\n",
        "if __name__ == \"__main__\":\n",
        "    main()\n"
      ],
      "metadata": {
        "colab": {
          "base_uri": "https://localhost:8080/"
        },
        "id": "IV7IAHepAnoE",
        "outputId": "afde62c6-71c1-483b-beef-176c4fa2938b"
      },
      "execution_count": null,
      "outputs": [
        {
          "output_type": "stream",
          "name": "stdout",
          "text": [
            "Enter the principal amount: 1000\n",
            "Enter the interest rate: .10\n",
            "Enter the number of years: 5\n",
            "The accumulated amount is 1610.5100000000004\n"
          ]
        }
      ]
    },
    {
      "cell_type": "code",
      "source": [
        "a = \"Rohim is a good boy.\"\n",
        "b = \"He reads in class 9.\"\n",
        "c = \"He is first in school\"\n",
        "\n",
        "print(a + b + c)\n"
      ],
      "metadata": {
        "colab": {
          "base_uri": "https://localhost:8080/"
        },
        "id": "qCyjt9LZBl5D",
        "outputId": "323866b7-f648-4432-e421-626c3255dc02"
      },
      "execution_count": null,
      "outputs": [
        {
          "output_type": "stream",
          "name": "stdout",
          "text": [
            "Rohim is a good boy.He reads in class 9.He is first in school\n"
          ]
        }
      ]
    }
  ]
}